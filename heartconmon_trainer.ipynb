{
 "cells": [
  {
   "cell_type": "code",
   "execution_count": null,
   "metadata": {},
   "outputs": [],
   "source": [
    "#\n",
    "# Run this cell to create untrained models and save them to disk.\n",
    "# WARNING: This is memory and IO intensive, and might make your computer unhappy.\n",
    "#\n",
    "import gc\n",
    "import heartconmon\n",
    "from heartconmon import models\n",
    "\n",
    "model = models._create_tiny_network()\n",
    "heartconmon.models.save_model(model, 'tiny')\n",
    "model = None\n",
    "gc.collect()\n",
    "model = models._create_medium_network()\n",
    "heartconmon.models.save_model(model, 'medium')\n",
    "model = None\n",
    "gc.collect()\n",
    "model = models._create_large_network()\n",
    "heartconmon.models.save_model(model, 'large')\n",
    "model = None\n",
    "gc.collect()\n"
   ]
  },
  {
   "cell_type": "code",
   "execution_count": null,
   "metadata": {},
   "outputs": [
    {
     "name": "stderr",
     "output_type": "stream",
     "text": [
      "Using TensorFlow backend.\n"
     ]
    },
    {
     "name": "stdout",
     "output_type": "stream",
     "text": [
      "(115157, 200, 1) (115157, 14)\n",
      "Train on 92125 samples, validate on 23032 samples\n",
      "Epoch 1/10\n",
      "92125/92125 [==============================] - 190s 2ms/step - loss: 1.3321 - acc: 0.6589 - val_loss: 1.3748 - val_acc: 0.9054\n",
      "Epoch 2/10\n",
      "92125/92125 [==============================] - 180s 2ms/step - loss: 1.1987 - acc: 0.6642 - val_loss: 1.4810 - val_acc: 0.9054\n",
      "Epoch 3/10\n",
      "33824/92125 [==========>...................] - ETA: 1:47 - loss: 1.2931 - acc: 0.6652"
     ]
    }
   ],
   "source": [
    "#\n",
    "# Run this cell to train a new model. Set the model size by commenting/uncommenting\n",
    "# the lines of the three sizes. You can also choose a data set, or to combine data\n",
    "# sets as needed!\n",
    "#\n",
    "# This cell will keep the model instance in memory so you can save it, continue to\n",
    "# train it, or reference it in other cells as needed.\n",
    "#\n",
    "\n",
    "import heartconmon\n",
    "from heartconmon import dataingest, models\n",
    "\n",
    "#model = models._create_tiny_network()\n",
    "model = models._create_medium_network()\n",
    "#model = models._create_large_network()\n",
    "\n",
    "ecg_data, ecg_labs = dataingest.get_data()\n",
    "\n",
    "heartconmon.models.train_model(model, ecg_data, ecg_labs, epochs=10)"
   ]
  },
  {
   "cell_type": "code",
   "execution_count": 2,
   "metadata": {},
   "outputs": [
    {
     "name": "stdout",
     "output_type": "stream",
     "text": [
      "Train on 2271 samples, validate on 568 samples\n",
      "Epoch 1/10\n",
      "2271/2271 [==============================] - 12s 5ms/step - loss: 2.4844 - acc: 0.3263 - val_loss: 15.3444 - val_acc: 0.0000e+00\n",
      "Epoch 2/10\n",
      "2271/2271 [==============================] - 5s 2ms/step - loss: 2.5408 - acc: 0.3448 - val_loss: 14.8592 - val_acc: 0.0000e+00\n",
      "Epoch 3/10\n",
      "2271/2271 [==============================] - 4s 2ms/step - loss: 2.1620 - acc: 0.4210 - val_loss: 15.0437 - val_acc: 0.0000e+00\n",
      "Epoch 4/10\n",
      "2271/2271 [==============================] - 4s 2ms/step - loss: 1.8663 - acc: 0.5266 - val_loss: 14.8400 - val_acc: 0.0282\n",
      "Epoch 5/10\n",
      "2271/2271 [==============================] - 4s 2ms/step - loss: 1.6781 - acc: 0.6059 - val_loss: 15.5676 - val_acc: 0.0000e+00\n",
      "Epoch 6/10\n",
      "2271/2271 [==============================] - 4s 2ms/step - loss: 1.5467 - acc: 0.6178 - val_loss: 15.1106 - val_acc: 0.0616\n",
      "Epoch 7/10\n",
      "2271/2271 [==============================] - 4s 2ms/step - loss: 1.5029 - acc: 0.6262 - val_loss: 14.9789 - val_acc: 0.0000e+00\n",
      "Epoch 8/10\n",
      "2271/2271 [==============================] - 4s 2ms/step - loss: 1.5237 - acc: 0.6270 - val_loss: 15.1815 - val_acc: 0.0000e+00\n",
      "Epoch 9/10\n",
      "2271/2271 [==============================] - 4s 2ms/step - loss: 1.3175 - acc: 0.6896 - val_loss: 15.1806 - val_acc: 0.0458\n",
      "Epoch 10/10\n",
      "2271/2271 [==============================] - 4s 2ms/step - loss: 1.2019 - acc: 0.7125 - val_loss: 15.0517 - val_acc: 0.0599 loss: 1.2177\n"
     ]
    }
   ],
   "source": [
    "# run this cell to run epochs on the already set model and with any updated data.\n",
    "# You might need to restart the kernel if you changed the code generating the data.\n",
    "ecg_data, ecg_labs = dataingest.get_data()\n",
    "heartconmon.models.train_model(model, ecg_data, ecg_labs, epochs=10)"
   ]
  },
  {
   "cell_type": "code",
   "execution_count": null,
   "metadata": {},
   "outputs": [],
   "source": [
    "heartconmon.predict(['1.0'])"
   ]
  }
 ],
 "metadata": {
  "kernelspec": {
   "display_name": "Python 3",
   "language": "python",
   "name": "python3"
  },
  "language_info": {
   "codemirror_mode": {
    "name": "ipython",
    "version": 3
   },
   "file_extension": ".py",
   "mimetype": "text/x-python",
   "name": "python",
   "nbconvert_exporter": "python",
   "pygments_lexer": "ipython3",
   "version": "3.6.6"
  }
 },
 "nbformat": 4,
 "nbformat_minor": 2
}
