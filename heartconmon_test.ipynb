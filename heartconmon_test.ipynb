{
 "cells": [
  {
   "cell_type": "code",
   "execution_count": 1,
   "metadata": {},
   "outputs": [
    {
     "name": "stderr",
     "output_type": "stream",
     "text": [
      "127.0.0.1 - - [10/Nov/2018 16:34:34] \"GET / HTTP/1.1\" 200 -\n",
      "127.0.0.1 - - [10/Nov/2018 16:34:34] \"POST / HTTP/1.1\" 200 -\n"
     ]
    },
    {
     "name": "stdout",
     "output_type": "stream",
     "text": [
      "received 5 points at 202.000000Hz\n",
      "Prediction: ([1, 2, 3, 4], [(0, 0.95), (1, 0.03), (2, 0.01)])\n"
     ]
    }
   ],
   "source": [
    "#\n",
    "# Cell to automatically Test accessing the webservice basic interface\n",
    "# \n",
    "import traceback\n",
    "import urllib.request\n",
    "import requests\n",
    "\n",
    "import heartconmon.webservice\n",
    "\n",
    "test_ecg_data = '1.0,1.0,1.0, 1.0,  1.3'\n",
    "\n",
    "heartconmon.webservice.start()\n",
    "\n",
    "try:\n",
    "    contents = urllib.request.urlopen(\"http://127.0.0.1:8080\").read()\n",
    "    r = requests.post(\"http://127.0.0.1:8080\", data={'ecgdata': test_ecg_data, 'freq': 202})\n",
    "    # TODO Verify results from the GET/POST messages\n",
    "except:\n",
    "    traceback.print_exc()\n",
    "finally:\n",
    "    heartconmon.webservice.stop()\n"
   ]
  },
  {
   "cell_type": "code",
   "execution_count": 2,
   "metadata": {},
   "outputs": [],
   "source": [
    "#\n",
    "# Cell to start up the webservice interface and manually test it\n",
    "#\n",
    "heartconmon.webservice.start()"
   ]
  },
  {
   "cell_type": "code",
   "execution_count": 3,
   "metadata": {},
   "outputs": [],
   "source": [
    "#\n",
    "# Cell to stop the webservice interface\n",
    "#\n",
    "heartconmon.webservice.stop()"
   ]
  },
  {
   "cell_type": "code",
   "execution_count": null,
   "metadata": {},
   "outputs": [],
   "source": []
  }
 ],
 "metadata": {
  "kernelspec": {
   "display_name": "Python 3",
   "language": "python",
   "name": "python3"
  },
  "language_info": {
   "codemirror_mode": {
    "name": "ipython",
    "version": 3
   },
   "file_extension": ".py",
   "mimetype": "text/x-python",
   "name": "python",
   "nbconvert_exporter": "python",
   "pygments_lexer": "ipython3",
   "version": "3.6.6"
  }
 },
 "nbformat": 4,
 "nbformat_minor": 2
}
